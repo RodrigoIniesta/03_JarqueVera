{
 "cells": [
  {
   "cell_type": "markdown",
   "metadata": {},
   "source": [
    "# Jarque-Bera test to check normality"
   ]
  },
  {
   "cell_type": "markdown",
   "metadata": {},
   "source": [
    "1. Jarque-Bera test\n",
    "\n",
    "Jarque-Bera test is a goodnes-of-fit test of whether sample data have the skewness and kurtosis matching a normal distribution. The test is always nonnegative. If it is far fron zero, it signal the data do not have a normal distribution. \n",
    "The test statistic JB is defined as\n",
    "\n",
    "$$JB=\\frac{n}{6} \\left( S^2+\\frac{1}{4}(K-3)^2 \\right)$$\n",
    "\n",
    "Where **n** is the number of observations and **S** is sample skewnees and **K** is the sample kurtosis\n",
    "$$S=\\frac{\\hat{\\mu}_3}{\\hat{\\sigma}^3} = \\frac{\\frac{1}{n}\\sum_{i=1}^{n}(x_i-\\bar{x})^3 }{\\left(\\frac{1}{n}\\sum(x_i-\\bar{x})^2 \\right)^{\\frac{3}{2}}}$$\n",
    "$$S=\\frac{\\hat{\\mu}_4}{\\hat{\\sigma}^4} = \\frac{\\frac{1}{n}\\sum(x_i-\\bar{x})^4 }{\\left(\\frac{1}{n}\\sum(x_i-\\bar{x})^2 \\right)^{2}}$$\n",
    "\n",
    "If the data comes from a normal distribution, JB statistic asymptotically has a chi-squarted distribution with two degrees of freedom, it is used to test that the data come from a normal distribution. Samples from a normal distributions have an expected S=0 and K-3=0 (for a normal standard). The null hipotesis is skewness and exces if kurtosis equals 0 (S=0,K-3=0)\n",
    "\n",
    "\n",
    "2. p-Value\n",
    "3. ¿que hacer cuando una distribucion de normalidad falla su test de normalidad?\n",
    "\n"
   ]
  },
  {
   "cell_type": "code",
   "execution_count": 1,
   "metadata": {},
   "outputs": [
    {
     "name": "stdout",
     "output_type": "stream",
     "text": [
      "kurtosis is 5.276097821365955\n",
      "skew is -0.009469943731237487\n",
      "Jarque-Bera statistic is 1159898.6224983193\n",
      "is normal False\n"
     ]
    },
    {
     "data": {
      "image/png": "[encoded data removed]",
      "text/plain": [
       "<Figure size 432x288 with 1 Axes>"
      ]
     },
     "metadata": {
      "needs_background": "light"
     },
     "output_type": "display_data"
    }
   ],
   "source": [
    "import pandas as pd\n",
    "import numpy as np\n",
    "import matplotlib as mpl\n",
    "import matplotlib.pyplot as plt\n",
    "import scipy\n",
    "import importlib\n",
    "from scipy.stats import skew,kurtosis,chi2\n",
    "\n",
    "#print(\"First code\")\n",
    "\n",
    "#simulating random variables\n",
    "nb_sims=10**6\n",
    "df=5\n",
    "lam=2\n",
    "dist_name= 'student'\n",
    "dist_type = 'sim RV'\n",
    "\n",
    "if dist_name == 'normal':\n",
    "    x=np.random.standard_normal(nb_sims)\n",
    "    x_desc= dist_type + ' ' + dist_name\n",
    "elif dist_name == 'exponential':\n",
    "    x=np.random.exponential(lam,nb_sims)\n",
    "    x_desc= dist_type + ' ' + dist_name\n",
    "elif dist_name == 'uniform':\n",
    "    x=np.random.uniform(0,2,nb_sims)\n",
    "    x_desc= dist_type + ' ' + dist_name\n",
    "elif dist_name == 'student':\n",
    "    x=np.random.standard_t(df,nb_sims)\n",
    "    x_desc= dist_type + ' ' + dist_name+' | df='+str(df) \n",
    "elif dist_name == 'chi-squared':\n",
    "    x=np.random.standard_t(df,nb_sims)\n",
    "    x_desc= dist_type + ' ' + dist_name+' | df='+str(df)\n",
    "\n",
    "'''\n",
    "Todays goal - Create Jarque - Bera normality test\n",
    "'''\n",
    "x_variance=np.var(x)\n",
    "x_skew = skew(x)\n",
    "x_kurtosis = kurtosis(x)\n",
    "x_jarque_bera = nb_sims/6*(x_skew**2+1/4*x_kurtosis**2)\n",
    "\n",
    "p_value = 1 - chi2.cdf(x_jarque_bera,df=2)\n",
    "x_is_normal = (p_value>0.05)  \n",
    "\n",
    "#jb_list = [] #create a list\n",
    "#jb_list.append(x_jarque_bera)\n",
    "\n",
    "print('kurtosis is ' + str(x_kurtosis)) \n",
    "print('skew is ' + str(x_skew))\n",
    "print('Jarque-Bera statistic is ' + str(x_jarque_bera))\n",
    "print('is normal ' + str(x_is_normal))\n",
    "#plot histograms (run all at time)\n",
    "plt.figure()\n",
    "plt.hist(x,bins=100)\n",
    "plt.title(x_desc)\n",
    "plt.show()"
   ]
  },
  {
   "cell_type": "code",
   "execution_count": null,
   "metadata": {},
   "outputs": [],
   "source": []
  }
 ],
 "metadata": {
  "kernelspec": {
   "display_name": "Python 3",
   "language": "python",
   "name": "python3"
  },
  "language_info": {
   "codemirror_mode": {
    "name": "ipython",
    "version": 3
   },
   "file_extension": ".py",
   "mimetype": "text/x-python",
   "name": "python",
   "nbconvert_exporter": "python",
   "pygments_lexer": "ipython3",
   "version": "3.8.5"
  }
 },
 "nbformat": 4,
 "nbformat_minor": 4
}
